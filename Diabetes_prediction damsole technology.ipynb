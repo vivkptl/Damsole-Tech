{
 "cells": [
  {
   "cell_type": "code",
   "execution_count": 82,
   "id": "d7ac4d16-1f28-45aa-b200-4b492df7fe50",
   "metadata": {},
   "outputs": [],
   "source": [
    "import pandas as pd\n",
    "import numpy as np\n",
    "import matplotlib.pyplot as plt\n",
    "import seaborn as sns\n",
    "from sklearn.model_selection import train_test_split\n",
    "from sklearn.preprocessing import StandardScaler\n",
    "from sklearn.ensemble import RandomForestClassifier, AdaBoostClassifier\n",
    "from sklearn.neighbors import KNeighborsClassifier\n",
    "from sklearn.linear_model import LogisticRegression\n",
    "from sklearn.tree import DecisionTreeClassifier\n",
    "from sklearn.metrics import accuracy_score, classification_report, confusion_matrix"
   ]
  },
  {
   "cell_type": "code",
   "execution_count": 83,
   "id": "80e039ca-e572-4e88-85c1-a99173b8d2b1",
   "metadata": {},
   "outputs": [],
   "source": [
    "import pandas as pd \n",
    "from sklearn.model_selection import train_test_split\n",
    "from sklearn.preprocessing import StandardScaler"
   ]
  },
  {
   "cell_type": "code",
   "execution_count": 84,
   "id": "87861354-2004-4684-883a-85be61891a06",
   "metadata": {},
   "outputs": [],
   "source": [
    "df =pd.read_csv(\"D:\\Data\\diabetes_prediction_dataset.csv\")"
   ]
  },
  {
   "cell_type": "code",
   "execution_count": 85,
   "id": "a3ac49d5-a4f2-4a07-a20d-8a70872c1c31",
   "metadata": {},
   "outputs": [
    {
     "name": "stdout",
     "output_type": "stream",
     "text": [
      "Dataset Shape: (100000, 9)\n",
      "Dataset Head:\n",
      "    gender   age  hypertension  heart_disease smoking_history    bmi  \\\n",
      "0  Female  80.0             0              1           never  25.19   \n",
      "1  Female  54.0             0              0         No Info  27.32   \n",
      "2    Male  28.0             0              0           never  27.32   \n",
      "3  Female  36.0             0              0         current  23.45   \n",
      "4    Male  76.0             1              1         current  20.14   \n",
      "\n",
      "   HbA1c_level  blood_glucose_level  diabetes  \n",
      "0          6.6                  140         0  \n",
      "1          6.6                   80         0  \n",
      "2          5.7                  158         0  \n",
      "3          5.0                  155         0  \n",
      "4          4.8                  155         0  \n"
     ]
    }
   ],
   "source": [
    "print(\"Dataset Shape:\", df.shape)\n",
    "print(\"Dataset Head:\\n\", df.head())"
   ]
  },
  {
   "cell_type": "code",
   "execution_count": 86,
   "id": "fec647b5-f514-484e-9072-ae108cb8425a",
   "metadata": {},
   "outputs": [
    {
     "name": "stdout",
     "output_type": "stream",
     "text": [
      "Columns in dataset: Index(['gender', 'age', 'hypertension', 'heart_disease', 'smoking_history',\n",
      "       'bmi', 'HbA1c_level', 'blood_glucose_level', 'diabetes'],\n",
      "      dtype='object')\n"
     ]
    }
   ],
   "source": [
    "print(\"Columns in dataset:\",df.columns)"
   ]
  },
  {
   "cell_type": "code",
   "execution_count": 87,
   "id": "2d35830f-b81d-4fb3-9502-e2243ec8d6d8",
   "metadata": {},
   "outputs": [],
   "source": [
    "file_path = r\"D:\\Data\\diabetes_prediction_dataset.csv\"  \n",
    "df = pd.read_csv(r\"D:\\Data\\diabetes_prediction_dataset.csv\")"
   ]
  },
  {
   "cell_type": "code",
   "execution_count": 88,
   "id": "f29f5fc7-59d9-48a9-a9be-c0fee3c5146b",
   "metadata": {},
   "outputs": [],
   "source": [
    "df =pd.get_dummies(df,columns=['gender','smoking_history'],drop_first=True)"
   ]
  },
  {
   "cell_type": "code",
   "execution_count": 89,
   "id": "91aaff1d-a4ed-4435-aeb2-061d210cac80",
   "metadata": {},
   "outputs": [],
   "source": [
    "X=df.drop(columns=['diabetes'])\n",
    "y=df['diabetes']"
   ]
  },
  {
   "cell_type": "code",
   "execution_count": 90,
   "id": "d03ce2ef-dbee-44bf-bed8-6e0ba861433e",
   "metadata": {},
   "outputs": [],
   "source": [
    "X_train,X_test,y_train,y_test=train_test_split(X,y,test_size=0.2,random_state=42)"
   ]
  },
  {
   "cell_type": "code",
   "execution_count": 91,
   "id": "253c5b06-d5d5-4cc1-bc07-a14fe40dee7a",
   "metadata": {},
   "outputs": [
    {
     "name": "stdout",
     "output_type": "stream",
     "text": [
      "age                            float64\n",
      "hypertension                     int64\n",
      "heart_disease                    int64\n",
      "bmi                            float64\n",
      "HbA1c_level                    float64\n",
      "blood_glucose_level              int64\n",
      "gender_Male                       bool\n",
      "gender_Other                      bool\n",
      "smoking_history_current           bool\n",
      "smoking_history_ever              bool\n",
      "smoking_history_former            bool\n",
      "smoking_history_never             bool\n",
      "smoking_history_not current       bool\n",
      "dtype: object\n"
     ]
    }
   ],
   "source": [
    "print(X_train.dtypes)"
   ]
  },
  {
   "cell_type": "code",
   "execution_count": 92,
   "id": "3029b643-423e-4348-8ef9-f9ceb573acc5",
   "metadata": {},
   "outputs": [],
   "source": [
    "X = df.drop(columns=['diabetes'])  \n",
    "y = df['diabetes']"
   ]
  },
  {
   "cell_type": "code",
   "execution_count": 93,
   "id": "4b9ca1a1-f7c5-4d54-b8e3-99c2fb760ab7",
   "metadata": {},
   "outputs": [
    {
     "name": "stdout",
     "output_type": "stream",
     "text": [
      "Columns in dataset: Index(['age', 'hypertension', 'heart_disease', 'bmi', 'HbA1c_level',\n",
      "       'blood_glucose_level', 'diabetes', 'gender_Male', 'gender_Other',\n",
      "       'smoking_history_current', 'smoking_history_ever',\n",
      "       'smoking_history_former', 'smoking_history_never',\n",
      "       'smoking_history_not current'],\n",
      "      dtype='object')\n"
     ]
    }
   ],
   "source": [
    "print(\"Columns in dataset:\",df.columns)"
   ]
  },
  {
   "cell_type": "code",
   "execution_count": 94,
   "id": "29531d8a-7895-4263-bc89-ffdb881175db",
   "metadata": {},
   "outputs": [],
   "source": [
    "X_train, X_test, y_train, y_test = train_test_split(X, y, test_size=0.2, random_state=42)"
   ]
  },
  {
   "cell_type": "code",
   "execution_count": 95,
   "id": "8280f7ee-127e-481f-be9f-439ab62a5b75",
   "metadata": {},
   "outputs": [],
   "source": [
    "df = df.drop(columns=['Outcome'], errors='ignore')"
   ]
  },
  {
   "cell_type": "code",
   "execution_count": 96,
   "id": "f65b7872-5919-43fc-b559-e7ce49b2b440",
   "metadata": {},
   "outputs": [],
   "source": [
    "from sklearn.preprocessing import StandardScaler\n",
    "from sklearn.ensemble import RandomForestClassifier\n",
    "from sklearn.neighbors import KNeighborsClassifier\n",
    "from sklearn.ensemble import AdaBoostClassifier\n",
    "from sklearn.linear_model import LogisticRegression\n",
    "from sklearn.tree import DecisionTreeClassifier\n",
    "from sklearn.metrics import accuracy_score\n",
    "from sklearn.metrics import classification_report\n",
    "from sklearn.metrics import confusion_matrix\n",
    "import matplotlib.pyplot as plt\n",
    "import seaborn as sns  "
   ]
  },
  {
   "cell_type": "code",
   "execution_count": 97,
   "id": "80390cef-c102-4d29-9652-fc821ad73d41",
   "metadata": {},
   "outputs": [
    {
     "name": "stdout",
     "output_type": "stream",
     "text": [
      "age                            int64\n",
      "hypertension                   int64\n",
      "heart_disease                  int64\n",
      "bmi                            int64\n",
      "HbA1c_level                    int64\n",
      "blood_glucose_level            int64\n",
      "diabetes                       int64\n",
      "gender_Male                    int64\n",
      "gender_Other                   int64\n",
      "smoking_history_current        int64\n",
      "smoking_history_ever           int64\n",
      "smoking_history_former         int64\n",
      "smoking_history_never          int64\n",
      "smoking_history_not current    int64\n",
      "dtype: object\n"
     ]
    }
   ],
   "source": [
    "df = df.astype(int)\n",
    "print(df.dtypes)"
   ]
  },
  {
   "cell_type": "code",
   "execution_count": 98,
   "id": "8b34ab74-93f3-4b41-be7d-c25e441a931a",
   "metadata": {},
   "outputs": [
    {
     "name": "stdout",
     "output_type": "stream",
     "text": [
      "age                            float64\n",
      "hypertension                     int64\n",
      "heart_disease                    int64\n",
      "bmi                            float64\n",
      "HbA1c_level                    float64\n",
      "blood_glucose_level              int64\n",
      "gender_Male                       bool\n",
      "gender_Other                      bool\n",
      "smoking_history_current           bool\n",
      "smoking_history_ever              bool\n",
      "smoking_history_former            bool\n",
      "smoking_history_never             bool\n",
      "smoking_history_not current       bool\n",
      "dtype: object\n"
     ]
    }
   ],
   "source": [
    "print(X_train.dtypes)"
   ]
  },
  {
   "cell_type": "code",
   "execution_count": 99,
   "id": "f2e6eec4-fd87-436a-9900-f6fc6f28e889",
   "metadata": {},
   "outputs": [],
   "source": [
    "scaler = StandardScaler()\n",
    "X_train = scaler.fit_transform(X_train)\n",
    "X_test = scaler.transform(X_test)"
   ]
  },
  {
   "cell_type": "code",
   "execution_count": 100,
   "id": "edfbde8b-5d68-4e6c-a97c-591f8283a8b1",
   "metadata": {},
   "outputs": [],
   "source": [
    "models = {\n",
    "    \"Random Forest\": RandomForestClassifier(),\n",
    "    \"KNN\": KNeighborsClassifier(),\n",
    "    \"AdaBoost\": AdaBoostClassifier(),\n",
    "    \"Logistic Regression\": LogisticRegression(),\n",
    "    \"Decision Tree\": DecisionTreeClassifier()\n",
    "}"
   ]
  },
  {
   "cell_type": "code",
   "execution_count": 101,
   "id": "aecbfcae-bb25-4b04-be36-0fac6d709ce8",
   "metadata": {},
   "outputs": [
    {
     "name": "stdout",
     "output_type": "stream",
     "text": [
      "Model: Random Forest\n",
      "Accuracy: 0.9695\n",
      "Classification Report:\n",
      "               precision    recall  f1-score   support\n",
      "\n",
      "           0       0.97      1.00      0.98     18292\n",
      "           1       0.94      0.69      0.79      1708\n",
      "\n",
      "    accuracy                           0.97     20000\n",
      "   macro avg       0.96      0.84      0.89     20000\n",
      "weighted avg       0.97      0.97      0.97     20000\n",
      "\n",
      "Confusion Matrix:\n",
      " [[18217    75]\n",
      " [  535  1173]]\n",
      "--------------------------------------------------\n",
      "Model: KNN\n",
      "Accuracy: 0.9605\n",
      "Classification Report:\n",
      "               precision    recall  f1-score   support\n",
      "\n",
      "           0       0.96      0.99      0.98     18292\n",
      "           1       0.89      0.61      0.73      1708\n",
      "\n",
      "    accuracy                           0.96     20000\n",
      "   macro avg       0.93      0.80      0.85     20000\n",
      "weighted avg       0.96      0.96      0.96     20000\n",
      "\n",
      "Confusion Matrix:\n",
      " [[18168   124]\n",
      " [  666  1042]]\n",
      "--------------------------------------------------\n",
      "Model: AdaBoost\n",
      "Accuracy: 0.9721\n",
      "Classification Report:\n",
      "               precision    recall  f1-score   support\n",
      "\n",
      "           0       0.97      1.00      0.99     18292\n",
      "           1       1.00      0.67      0.81      1708\n",
      "\n",
      "    accuracy                           0.97     20000\n",
      "   macro avg       0.99      0.84      0.90     20000\n",
      "weighted avg       0.97      0.97      0.97     20000\n",
      "\n",
      "Confusion Matrix:\n",
      " [[18292     0]\n",
      " [  557  1151]]\n",
      "--------------------------------------------------\n",
      "Model: Logistic Regression\n",
      "Accuracy: 0.9590\n",
      "Classification Report:\n",
      "               precision    recall  f1-score   support\n",
      "\n",
      "           0       0.97      0.99      0.98     18292\n",
      "           1       0.86      0.62      0.72      1708\n",
      "\n",
      "    accuracy                           0.96     20000\n",
      "   macro avg       0.91      0.80      0.85     20000\n",
      "weighted avg       0.96      0.96      0.96     20000\n",
      "\n",
      "Confusion Matrix:\n",
      " [[18127   165]\n",
      " [  654  1054]]\n",
      "--------------------------------------------------\n",
      "Model: Decision Tree\n",
      "Accuracy: 0.9523\n",
      "Classification Report:\n",
      "               precision    recall  f1-score   support\n",
      "\n",
      "           0       0.98      0.97      0.97     18292\n",
      "           1       0.71      0.74      0.73      1708\n",
      "\n",
      "    accuracy                           0.95     20000\n",
      "   macro avg       0.84      0.86      0.85     20000\n",
      "weighted avg       0.95      0.95      0.95     20000\n",
      "\n",
      "Confusion Matrix:\n",
      " [[17785   507]\n",
      " [  447  1261]]\n",
      "--------------------------------------------------\n"
     ]
    }
   ],
   "source": [
    "results = {}\n",
    "for name, model in models.items():\n",
    "    model.fit(X_train, y_train)\n",
    "    y_pred = model.predict(X_test)\n",
    "    accuracy = accuracy_score(y_test, y_pred)\n",
    "    results[name] = accuracy\n",
    "    print(f\"Model: {name}\")\n",
    "    print(f\"Accuracy: {accuracy:.4f}\")\n",
    "    print(\"Classification Report:\\n\", classification_report(y_test, y_pred))\n",
    "    print(\"Confusion Matrix:\\n\", confusion_matrix(y_test, y_pred))\n",
    "    print(\"-\" * 50)"
   ]
  },
  {
   "cell_type": "code",
   "execution_count": 102,
   "id": "0c23c36f-3a28-46c5-9e36-a38c86823fa2",
   "metadata": {},
   "outputs": [
    {
     "data": {
      "image/png": "[encoded data removed]",
      "text/plain": [
       "<Figure size 1000x500 with 1 Axes>"
      ]
     },
     "metadata": {},
     "output_type": "display_data"
    }
   ],
   "source": [
    "# Plot model performance\n",
    "plt.figure(figsize=(10, 5))\n",
    "sns.barplot(x=list(results.keys()), y=list(results.values()))\n",
    "plt.title(\"Model Comparison\")\n",
    "plt.ylabel(\"Accuracy\")\n",
    "plt.ylim(0, 1)\n",
    "plt.show()"
   ]
  },
  {
   "cell_type": "code",
   "execution_count": 2,
   "id": "f37e917a-266f-4326-84f1-ea24eb3aea0a",
   "metadata": {},
   "outputs": [
    {
     "data": {
      "image/png": "[encoded data removed]",
      "text/plain": [
       "<Figure size 1000x500 with 1 Axes>"
      ]
     },
     "metadata": {},
     "output_type": "display_data"
    }
   ],
   "source": [
    "import matplotlib.pyplot as plt\n",
    "models = [\"Model A\", \"Model B\", \"Model C\", \"Model D\"]\n",
    "accuracy = [0.85, 0.78, 0.92, 0.81]\n",
    "plt.figure(figsize=(10, 5))\n",
    "plt.bar(models, accuracy, color=['blue', 'green', 'red', 'purple'])\n",
    "plt.title(\"Model Performance Comparison\")\n",
    "plt.ylabel(\"Accuracy\")\n",
    "plt.ylim(0, 1)\n",
    "plt.grid(axis='y', linestyle='--', alpha=0.7)\n",
    "plt.show()"
   ]
  },
  {
   "cell_type": "code",
   "execution_count": null,
   "id": "39d7c50f-ee4e-40c7-b59b-d736172b6bbb",
   "metadata": {},
   "outputs": [],
   "source": []
  }
 ],
 "metadata": {
  "kernelspec": {
   "display_name": "Python 3 (ipykernel)",
   "language": "python",
   "name": "python3"
  },
  "language_info": {
   "codemirror_mode": {
    "name": "ipython",
    "version": 3
   },
   "file_extension": ".py",
   "mimetype": "text/x-python",
   "name": "python",
   "nbconvert_exporter": "python",
   "pygments_lexer": "ipython3",
   "version": "3.11.9"
  }
 },
 "nbformat": 4,
 "nbformat_minor": 5
}
